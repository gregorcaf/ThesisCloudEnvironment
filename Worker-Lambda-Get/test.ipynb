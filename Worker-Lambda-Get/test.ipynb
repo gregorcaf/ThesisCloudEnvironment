{
 "cells": [
  {
   "cell_type": "code",
   "execution_count": 2,
   "metadata": {},
   "outputs": [],
   "source": [
    "import pandas as pd\n",
    "import json"
   ]
  },
  {
   "cell_type": "code",
   "execution_count": 3,
   "metadata": {},
   "outputs": [],
   "source": [
    "filename = \"../Data/Chunks/Dataset_filtered.csv\"\n",
    "\n",
    "df = pd.read_csv(filename)"
   ]
  },
  {
   "cell_type": "code",
   "execution_count": 9,
   "metadata": {},
   "outputs": [],
   "source": [
    "df[\"date_time\"].to_csv(\"Keys.csv\", index=False)"
   ]
  },
  {
   "cell_type": "code",
   "execution_count": 10,
   "metadata": {},
   "outputs": [
    {
     "name": "stdout",
     "output_type": "stream",
     "text": [
      "{\"col_1\": 1120.0, \"col_2\": 7.0, \"col_3\": 82.71428571428571}\n",
      "{\"col_1\": 594.0, \"col_2\": 8.0, \"col_3\": 82.79166666666667}\n",
      "{\"col_1\": 4335.0, \"col_2\": 19.0, \"col_3\": 85.76754385964912}\n",
      "{\"col_1\": 161.0, \"col_2\": 12.0, \"col_3\": 81.5}\n",
      "{\"col_1\": 4520.0, \"col_2\": 8.0, \"col_3\": 86.25}\n",
      "{\"col_1\": 1328.0, \"col_2\": 2.0, \"col_3\": 75.25}\n",
      "{\"col_1\": 2196.0, \"col_2\": 27.0, \"col_3\": 83.68827160493828}\n",
      "{\"col_1\": 4356.0, \"col_2\": 8.0, \"col_3\": 86.1875}\n",
      "{\"col_1\": 3915.0, \"col_2\": 6.0, \"col_3\": 68.75}\n",
      "{\"col_1\": 1950.0, \"col_2\": 4.0, \"col_3\": 83.125}\n"
     ]
    }
   ],
   "source": [
    "for i in range(10):\n",
    "    row = df.iloc[i]\n",
    "    key = row[\"date_time\"]\n",
    "    value = {\n",
    "        \"col_1\": float(row[\"col_1\"]),\n",
    "        \"col_2\": float(row[\"col_2\"]),\n",
    "        \"col_3\": float(row[\"col_3\"])\n",
    "    }\n",
    "\n",
    "    value_json = json.dumps(value)\n",
    "    print(value_json)"
   ]
  },
  {
   "cell_type": "code",
   "execution_count": 11,
   "metadata": {},
   "outputs": [
    {
     "data": {
      "text/plain": [
       "'{\"col_1\": 1950.0, \"col_2\": 4.0, \"col_3\": 83.125}'"
      ]
     },
     "execution_count": 11,
     "metadata": {},
     "output_type": "execute_result"
    }
   ],
   "source": [
    "value_json"
   ]
  },
  {
   "cell_type": "code",
   "execution_count": 12,
   "metadata": {},
   "outputs": [
    {
     "data": {
      "text/plain": [
       "'2021-04-26 12:20:00'"
      ]
     },
     "execution_count": 12,
     "metadata": {},
     "output_type": "execute_result"
    }
   ],
   "source": [
    "key"
   ]
  },
  {
   "cell_type": "code",
   "execution_count": 24,
   "metadata": {},
   "outputs": [],
   "source": [
    "rows = []"
   ]
  },
  {
   "cell_type": "code",
   "execution_count": 25,
   "metadata": {},
   "outputs": [
    {
     "data": {
      "text/plain": [
       "{'col_1': 1950.0, 'col_2': 4.0, 'col_3': 83.125}"
      ]
     },
     "execution_count": 25,
     "metadata": {},
     "output_type": "execute_result"
    }
   ],
   "source": [
    "data = json.loads(value_json)\n",
    "data"
   ]
  },
  {
   "cell_type": "code",
   "execution_count": 26,
   "metadata": {},
   "outputs": [],
   "source": [
    "data[\"date_time\"] = key"
   ]
  },
  {
   "cell_type": "code",
   "execution_count": 27,
   "metadata": {},
   "outputs": [
    {
     "data": {
      "text/plain": [
       "{'col_1': 1950.0,\n",
       " 'col_2': 4.0,\n",
       " 'col_3': 83.125,\n",
       " 'date_time': '2021-04-26 12:20:00'}"
      ]
     },
     "execution_count": 27,
     "metadata": {},
     "output_type": "execute_result"
    }
   ],
   "source": [
    "data"
   ]
  },
  {
   "cell_type": "code",
   "execution_count": 28,
   "metadata": {},
   "outputs": [],
   "source": [
    "rows.append(data)"
   ]
  },
  {
   "cell_type": "code",
   "execution_count": 34,
   "metadata": {},
   "outputs": [],
   "source": [
    "rows.append(data)"
   ]
  },
  {
   "cell_type": "code",
   "execution_count": 35,
   "metadata": {},
   "outputs": [
    {
     "data": {
      "text/plain": [
       "[{'col_1': 1950.0,\n",
       "  'col_2': 4.0,\n",
       "  'col_3': 83.125,\n",
       "  'date_time': '2021-04-26 12:20:00'},\n",
       " {'col_1': 1950.0,\n",
       "  'col_2': 4.0,\n",
       "  'col_3': 83.125,\n",
       "  'date_time': '2021-04-26 12:20:00'},\n",
       " {'col_1': 1950.0,\n",
       "  'col_2': 4.0,\n",
       "  'col_3': 83.125,\n",
       "  'date_time': '2021-04-26 12:20:00'}]"
      ]
     },
     "execution_count": 35,
     "metadata": {},
     "output_type": "execute_result"
    }
   ],
   "source": [
    "rows"
   ]
  },
  {
   "cell_type": "code",
   "execution_count": null,
   "metadata": {},
   "outputs": [],
   "source": []
  },
  {
   "cell_type": "code",
   "execution_count": 40,
   "metadata": {},
   "outputs": [],
   "source": [
    "df_get = pd.DataFrame(rows)"
   ]
  },
  {
   "cell_type": "code",
   "execution_count": 41,
   "metadata": {},
   "outputs": [],
   "source": [
    "df_get = df_get[['date_time', 'col_1', 'col_2', 'col_3']]"
   ]
  },
  {
   "cell_type": "code",
   "execution_count": 45,
   "metadata": {},
   "outputs": [
    {
     "data": {
      "text/html": [
       "<div>\n",
       "<style scoped>\n",
       "    .dataframe tbody tr th:only-of-type {\n",
       "        vertical-align: middle;\n",
       "    }\n",
       "\n",
       "    .dataframe tbody tr th {\n",
       "        vertical-align: top;\n",
       "    }\n",
       "\n",
       "    .dataframe thead th {\n",
       "        text-align: right;\n",
       "    }\n",
       "</style>\n",
       "<table border=\"1\" class=\"dataframe\">\n",
       "  <thead>\n",
       "    <tr style=\"text-align: right;\">\n",
       "      <th></th>\n",
       "      <th>date_time</th>\n",
       "      <th>col_1</th>\n",
       "      <th>col_2</th>\n",
       "      <th>col_3</th>\n",
       "    </tr>\n",
       "  </thead>\n",
       "  <tbody>\n",
       "    <tr>\n",
       "      <th>0</th>\n",
       "      <td>2021-04-26 12:20:00</td>\n",
       "      <td>1950.0</td>\n",
       "      <td>4.0</td>\n",
       "      <td>83.125</td>\n",
       "    </tr>\n",
       "    <tr>\n",
       "      <th>1</th>\n",
       "      <td>2021-04-26 12:20:00</td>\n",
       "      <td>1950.0</td>\n",
       "      <td>4.0</td>\n",
       "      <td>83.125</td>\n",
       "    </tr>\n",
       "    <tr>\n",
       "      <th>2</th>\n",
       "      <td>2021-04-26 12:20:00</td>\n",
       "      <td>1950.0</td>\n",
       "      <td>4.0</td>\n",
       "      <td>83.125</td>\n",
       "    </tr>\n",
       "  </tbody>\n",
       "</table>\n",
       "</div>"
      ],
      "text/plain": [
       "             date_time   col_1  col_2   col_3\n",
       "0  2021-04-26 12:20:00  1950.0    4.0  83.125\n",
       "1  2021-04-26 12:20:00  1950.0    4.0  83.125\n",
       "2  2021-04-26 12:20:00  1950.0    4.0  83.125"
      ]
     },
     "execution_count": 45,
     "metadata": {},
     "output_type": "execute_result"
    }
   ],
   "source": [
    "df_get.head()"
   ]
  },
  {
   "cell_type": "code",
   "execution_count": null,
   "metadata": {},
   "outputs": [],
   "source": []
  }
 ],
 "metadata": {
  "kernelspec": {
   "display_name": "pythonProject",
   "language": "python",
   "name": "python3"
  },
  "language_info": {
   "codemirror_mode": {
    "name": "ipython",
    "version": 3
   },
   "file_extension": ".py",
   "mimetype": "text/x-python",
   "name": "python",
   "nbconvert_exporter": "python",
   "pygments_lexer": "ipython3",
   "version": "3.8.8"
  }
 },
 "nbformat": 4,
 "nbformat_minor": 2
}
