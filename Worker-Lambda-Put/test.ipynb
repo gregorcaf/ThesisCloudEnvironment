{
 "cells": [
  {
   "cell_type": "code",
   "execution_count": 1,
   "metadata": {},
   "outputs": [],
   "source": [
    "import pandas as pd\n",
    "import json"
   ]
  },
  {
   "cell_type": "code",
   "execution_count": 2,
   "metadata": {},
   "outputs": [],
   "source": [
    "filename = \"../Data/Chunks/Dataset_filtered.csv.aa\"\n",
    "# filename = \"../Data/Chunks/Bel_05min_1303_0606_2021.csv.aa\"\n",
    "\n",
    "\n",
    "df = pd.read_csv(filename)\n",
    "# df.columns = [\"date_time\", \"col_1\", \"col_2\", \"col_3\"]"
   ]
  },
  {
   "cell_type": "code",
   "execution_count": 8,
   "metadata": {},
   "outputs": [],
   "source": [
    "# KEEP UNIQUE ENTRIES -> 97000 rows\n",
    "# df.size\n",
    "# df = df.drop_duplicates(subset=['date_time'])\n",
    "# df.size\n",
    "# df.to_csv(\"Dataset_filtered.csv\", index=False)"
   ]
  },
  {
   "cell_type": "code",
   "execution_count": 11,
   "metadata": {},
   "outputs": [
    {
     "name": "stdout",
     "output_type": "stream",
     "text": [
      "{\"col_1\": 1120.0, \"col_2\": 7.0, \"col_3\": 82.71428571428571}\n",
      "{\"col_1\": 594.0, \"col_2\": 8.0, \"col_3\": 82.79166666666667}\n",
      "{\"col_1\": 4335.0, \"col_2\": 19.0, \"col_3\": 85.76754385964912}\n",
      "{\"col_1\": 161.0, \"col_2\": 12.0, \"col_3\": 81.5}\n",
      "{\"col_1\": 4520.0, \"col_2\": 8.0, \"col_3\": 86.25}\n",
      "{\"col_1\": 1328.0, \"col_2\": 2.0, \"col_3\": 75.25}\n",
      "{\"col_1\": 2196.0, \"col_2\": 27.0, \"col_3\": 83.68827160493828}\n",
      "{\"col_1\": 4356.0, \"col_2\": 8.0, \"col_3\": 86.1875}\n",
      "{\"col_1\": 3915.0, \"col_2\": 6.0, \"col_3\": 68.75}\n",
      "{\"col_1\": 1950.0, \"col_2\": 4.0, \"col_3\": 83.125}\n"
     ]
    }
   ],
   "source": [
    "for i in range(10):\n",
    "    row = df.iloc[i]\n",
    "    key = row[\"date_time\"]\n",
    "    value = {\n",
    "        \"col_1\": float(row[\"col_1\"]),\n",
    "        \"col_2\": float(row[\"col_2\"]),\n",
    "        \"col_3\": float(row[\"col_3\"])\n",
    "    }\n",
    "\n",
    "    value_json = json.dumps(value)\n",
    "    print(value_json)"
   ]
  },
  {
   "cell_type": "code",
   "execution_count": null,
   "metadata": {},
   "outputs": [],
   "source": []
  }
 ],
 "metadata": {
  "kernelspec": {
   "display_name": "pythonProject",
   "language": "python",
   "name": "python3"
  },
  "language_info": {
   "codemirror_mode": {
    "name": "ipython",
    "version": 3
   },
   "file_extension": ".py",
   "mimetype": "text/x-python",
   "name": "python",
   "nbconvert_exporter": "python",
   "pygments_lexer": "ipython3",
   "version": "3.8.8"
  }
 },
 "nbformat": 4,
 "nbformat_minor": 2
}
